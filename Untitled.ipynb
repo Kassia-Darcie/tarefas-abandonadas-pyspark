{
 "cells": [
  {
   "cell_type": "code",
   "execution_count": 56,
   "id": "f6f6af94-4c5d-40ab-92ca-a79de82a5922",
   "metadata": {},
   "outputs": [],
   "source": [
    "\n",
    "from pyspark.sql.types import StructType,StructField, StringType, IntegerType \n",
    "from pyspark.sql import SparkSession\n",
    "from pyspark.pandas import read_csv\n",
    "\n",
    "\n",
    "spark = ( \n",
    "    SparkSession\n",
    "    .builder\n",
    "        .master(\"local[*]\")\n",
    "    .appName('spark_dataframe_api')\n",
    "    .getOrCreate()\n",
    ")\n"
   ]
  },
  {
   "cell_type": "code",
   "execution_count": 57,
   "id": "85a51c61",
   "metadata": {},
   "outputs": [
    {
     "name": "stdout",
     "output_type": "stream",
     "text": [
      "root\n",
      " |-- Nome da Tarefa: string (nullable = true)\n",
      " |-- Tipo da Tarefa: string (nullable = true)\n",
      " |-- Tipo da Tarefa ID: integer (nullable = true)\n",
      " |-- Data de Criação: timestamp (nullable = true)\n",
      " |-- Data de Conclusão: timestamp (nullable = true)\n",
      " |-- Status: integer (nullable = true)\n",
      " |-- Status Descrição: string (nullable = true)\n",
      " |-- Usuário: string (nullable = true)\n",
      " |-- ID do Usuário: string (nullable = true)\n",
      "\n"
     ]
    }
   ],
   "source": [
    "base_dataframe = (\n",
    "    spark\n",
    "    .read\n",
    "    .option('delimiter', ';')\n",
    "    .option('header', 'true')\n",
    "    .option('inferSchema', 'true')\n",
    "    .option('enconding', 'ISO-8859-1')\n",
    "    .csv('./data/amostragem.csv')\n",
    ")\n",
    "\n",
    "base_dataframe.printSchema()\n",
    "\n"
   ]
  },
  {
   "cell_type": "markdown",
   "id": "38f7c274",
   "metadata": {},
   "source": [
    "## Tratando os dados\n",
    "\n",
    "- Renomeando as colunas "
   ]
  },
  {
   "cell_type": "code",
   "execution_count": 58,
   "id": "6f1da306",
   "metadata": {},
   "outputs": [
    {
     "name": "stdout",
     "output_type": "stream",
     "text": [
      "root\n",
      " |-- nome: string (nullable = true)\n",
      " |-- tipo_tarefa: string (nullable = true)\n",
      " |-- Tipo da Tarefa ID: integer (nullable = true)\n",
      " |-- data: timestamp (nullable = true)\n",
      " |-- data_conclusao: timestamp (nullable = true)\n",
      " |-- status: string (nullable = true)\n",
      " |-- Status Descrição: string (nullable = true)\n",
      " |-- Usuário: string (nullable = true)\n",
      " |-- user_id: string (nullable = true)\n",
      "\n"
     ]
    }
   ],
   "source": [
    "df = base_dataframe.withColumnsRenamed(\n",
    "    {'Nome da Tarefa': 'nome', \n",
    "     'Data de Criação': 'data', \n",
    "     'Data de Conclusão': 'data_conclusao', \n",
    "     'Status': 'status', \n",
    "     'Tipo da Tarefa': 'tipo_tarefa', \n",
    "     'ID do Usuário': 'user_id'}\n",
    "    )\n",
    "\n",
    "df = df.withColumn('status', df['status'].cast(StringType()))\n",
    "\n",
    "df.printSchema()"
   ]
  },
  {
   "cell_type": "markdown",
   "id": "3b781830",
   "metadata": {},
   "source": [
    "- Filtrando os dados"
   ]
  },
  {
   "cell_type": "code",
   "execution_count": 59,
   "id": "ef4e5ed7",
   "metadata": {},
   "outputs": [
    {
     "name": "stdout",
     "output_type": "stream",
     "text": [
      "+--------------------+------------------+-----------------+-------------------+-------------------+------+----------------+-------------+--------------------+\n",
      "|                nome|       tipo_tarefa|Tipo da Tarefa ID|               data|     data_conclusao|status|Status Descrição|      Usuário|             user_id|\n",
      "+--------------------+------------------+-----------------+-------------------+-------------------+------+----------------+-------------+--------------------+\n",
      "|Cum iure exercita...|Tarefa a Ser Feita|                2|2024-07-18 22:51:51|2025-02-12 22:51:51|     2|       Concluído|Jeferson Klau|b4853fc1f03a3a4ce...|\n",
      "|    Asperiores iusto|Tarefa a Ser Feita|                2|2025-05-29 09:07:49|               NULL|     1|         A Fazer|Jeferson Klau|b4853fc1f03a3a4ce...|\n",
      "|Asperiores pariat...|Tarefa a Ser Feita|                2|2023-09-12 19:56:45|               NULL|     1|         A Fazer|Jeferson Klau|b4853fc1f03a3a4ce...|\n",
      "|        Comprar ipsa|    Item de Compra|                1|2024-11-27 13:01:39|2025-02-08 13:01:39|     2|       Concluído|Jeferson Klau|b4853fc1f03a3a4ce...|\n",
      "|     Comprar tempore|    Item de Compra|                1|2023-06-26 06:33:23|2024-06-15 06:33:23|     2|       Concluído|Jeferson Klau|b4853fc1f03a3a4ce...|\n",
      "|    Laboriosam dolor|Tarefa a Ser Feita|                2|2023-08-27 09:30:37|               NULL|     1|         A Fazer|Jeferson Klau|b4853fc1f03a3a4ce...|\n",
      "|Blanditiis corrup...|Tarefa a Ser Feita|                2|2025-02-05 16:57:46|               NULL|     1|         A Fazer|Jeferson Klau|b4853fc1f03a3a4ce...|\n",
      "|        Comprar esse|    Item de Compra|                1|2025-02-13 11:13:26|2025-06-02 20:48:40|     2|       Concluído|Jeferson Klau|b4853fc1f03a3a4ce...|\n",
      "|Sunt soluta offic...|Tarefa a Ser Feita|                2|2024-03-31 16:41:51|               NULL|     1|         A Fazer|Jeferson Klau|b4853fc1f03a3a4ce...|\n",
      "|          Comprar ab|    Item de Compra|                1|2024-11-12 11:14:24|               NULL|     1|         A Fazer|Jeferson Klau|b4853fc1f03a3a4ce...|\n",
      "|    Amet beatae esse|Tarefa a Ser Feita|                2|2024-02-10 16:00:34|2024-02-14 16:00:34|     2|       Concluído|Jeferson Klau|b4853fc1f03a3a4ce...|\n",
      "|                Modi|Tarefa a Ser Feita|                2|2025-03-12 12:43:39|               NULL|     1|         A Fazer|Jeferson Klau|b4853fc1f03a3a4ce...|\n",
      "|         Comprar sed|    Item de Compra|                1|2025-05-25 23:04:16|               NULL|     1|         A Fazer|Jeferson Klau|b4853fc1f03a3a4ce...|\n",
      "|       Comprar ullam|    Item de Compra|                1|2024-09-21 07:48:24|2025-01-25 07:48:24|     2|       Concluído|Jeferson Klau|b4853fc1f03a3a4ce...|\n",
      "|Ipsa accusantium ...|Tarefa a Ser Feita|                2|2024-05-19 03:14:54|2025-01-12 03:14:54|     2|       Concluído|Jeferson Klau|b4853fc1f03a3a4ce...|\n",
      "|Doloremque except...|Tarefa a Ser Feita|                2|2024-07-10 18:55:09|2025-01-16 18:55:09|     2|       Concluído|Jeferson Klau|b4853fc1f03a3a4ce...|\n",
      "|      Ad iusto culpa|Tarefa a Ser Feita|                2|2023-12-16 05:13:08|               NULL|     1|         A Fazer|Jeferson Klau|b4853fc1f03a3a4ce...|\n",
      "|Rerum animi ducim...|Tarefa a Ser Feita|                2|2024-10-10 04:20:59|2024-12-13 04:20:59|     2|       Concluído|Jeferson Klau|b4853fc1f03a3a4ce...|\n",
      "|  Comprar aspernatur|    Item de Compra|                1|2024-03-10 01:25:36|               NULL|     1|         A Fazer|Jeferson Klau|b4853fc1f03a3a4ce...|\n",
      "|Fuga quae corpori...|Tarefa a Ser Feita|                2|2024-07-08 13:30:58|               NULL|     1|         A Fazer|Jeferson Klau|b4853fc1f03a3a4ce...|\n",
      "+--------------------+------------------+-----------------+-------------------+-------------------+------+----------------+-------------+--------------------+\n",
      "only showing top 20 rows\n"
     ]
    }
   ],
   "source": [
    "df = (\n",
    "  df\n",
    "  .filter((df['Usuário'] == 'Jeferson Klau') & (df['status'] != 3))\n",
    ")\n",
    "\n",
    "df.show()"
   ]
  },
  {
   "cell_type": "code",
   "execution_count": 60,
   "id": "d9510d9f",
   "metadata": {},
   "outputs": [
    {
     "name": "stdout",
     "output_type": "stream",
     "text": [
      "+--------------------+------------------+-------------------+-------------------+------+--------------------+\n",
      "|                nome|       tipo_tarefa|               data|     data_conclusao|status|             user_id|\n",
      "+--------------------+------------------+-------------------+-------------------+------+--------------------+\n",
      "|Cum iure exercita...|Tarefa a Ser Feita|2024-07-18 22:51:51|2025-02-12 22:51:51|     2|b4853fc1f03a3a4ce...|\n",
      "|    Asperiores iusto|Tarefa a Ser Feita|2025-05-29 09:07:49|               NULL|     1|b4853fc1f03a3a4ce...|\n",
      "|Asperiores pariat...|Tarefa a Ser Feita|2023-09-12 19:56:45|               NULL|     1|b4853fc1f03a3a4ce...|\n",
      "|        Comprar ipsa|    Item de Compra|2024-11-27 13:01:39|2025-02-08 13:01:39|     2|b4853fc1f03a3a4ce...|\n",
      "|     Comprar tempore|    Item de Compra|2023-06-26 06:33:23|2024-06-15 06:33:23|     2|b4853fc1f03a3a4ce...|\n",
      "|    Laboriosam dolor|Tarefa a Ser Feita|2023-08-27 09:30:37|               NULL|     1|b4853fc1f03a3a4ce...|\n",
      "|Blanditiis corrup...|Tarefa a Ser Feita|2025-02-05 16:57:46|               NULL|     1|b4853fc1f03a3a4ce...|\n",
      "|        Comprar esse|    Item de Compra|2025-02-13 11:13:26|2025-06-02 20:48:40|     2|b4853fc1f03a3a4ce...|\n",
      "|Sunt soluta offic...|Tarefa a Ser Feita|2024-03-31 16:41:51|               NULL|     1|b4853fc1f03a3a4ce...|\n",
      "|          Comprar ab|    Item de Compra|2024-11-12 11:14:24|               NULL|     1|b4853fc1f03a3a4ce...|\n",
      "|    Amet beatae esse|Tarefa a Ser Feita|2024-02-10 16:00:34|2024-02-14 16:00:34|     2|b4853fc1f03a3a4ce...|\n",
      "|                Modi|Tarefa a Ser Feita|2025-03-12 12:43:39|               NULL|     1|b4853fc1f03a3a4ce...|\n",
      "|         Comprar sed|    Item de Compra|2025-05-25 23:04:16|               NULL|     1|b4853fc1f03a3a4ce...|\n",
      "|       Comprar ullam|    Item de Compra|2024-09-21 07:48:24|2025-01-25 07:48:24|     2|b4853fc1f03a3a4ce...|\n",
      "|Ipsa accusantium ...|Tarefa a Ser Feita|2024-05-19 03:14:54|2025-01-12 03:14:54|     2|b4853fc1f03a3a4ce...|\n",
      "|Doloremque except...|Tarefa a Ser Feita|2024-07-10 18:55:09|2025-01-16 18:55:09|     2|b4853fc1f03a3a4ce...|\n",
      "|      Ad iusto culpa|Tarefa a Ser Feita|2023-12-16 05:13:08|               NULL|     1|b4853fc1f03a3a4ce...|\n",
      "|Rerum animi ducim...|Tarefa a Ser Feita|2024-10-10 04:20:59|2024-12-13 04:20:59|     2|b4853fc1f03a3a4ce...|\n",
      "|  Comprar aspernatur|    Item de Compra|2024-03-10 01:25:36|               NULL|     1|b4853fc1f03a3a4ce...|\n",
      "|Fuga quae corpori...|Tarefa a Ser Feita|2024-07-08 13:30:58|               NULL|     1|b4853fc1f03a3a4ce...|\n",
      "+--------------------+------------------+-------------------+-------------------+------+--------------------+\n",
      "only showing top 20 rows\n"
     ]
    }
   ],
   "source": [
    "df = (\n",
    "  df\n",
    "  .drop('Tipo da Tarefa ID')\n",
    "  .drop('Status Descrição')\n",
    "  .drop('Usuário')\n",
    ")\n",
    "\n",
    "df.show()"
   ]
  },
  {
   "cell_type": "markdown",
   "id": "03cc9be7",
   "metadata": {},
   "source": [
    "- Mudando o valor dos atributos para o padrão da tabela do dynamoDB"
   ]
  },
  {
   "cell_type": "code",
   "execution_count": null,
   "id": "29c2f6ae",
   "metadata": {},
   "outputs": [
    {
     "name": "stdout",
     "output_type": "stream",
     "text": [
      "+-------------+--------------------+--------------------+--------------------+-------------------+-------------------+------+------------------+\n",
      "|           PK|                  SK|             user_id|                nome|               data|     data_conclusao|status|       tipo_tarefa|\n",
      "+-------------+--------------------+--------------------+--------------------+-------------------+-------------------+------+------------------+\n",
      "|LIST#20240718|ITEM#1fa0a8af-6ad...|b4853fc1f03a3a4ce...|Cum iure exercita...|2024-07-18 22:51:51|2025-02-12 22:51:51|  DONE|Tarefa a Ser Feita|\n",
      "|LIST#20250529|ITEM#1fa0a8af-6ad...|b4853fc1f03a3a4ce...|    Asperiores iusto|2025-05-29 09:07:49|               NULL|  TODO|Tarefa a Ser Feita|\n",
      "|LIST#20230912|ITEM#1fa0a8af-6ad...|b4853fc1f03a3a4ce...|Asperiores pariat...|2023-09-12 19:56:45|               NULL|  TODO|Tarefa a Ser Feita|\n",
      "|LIST#20241127|ITEM#1fa0a8af-6ad...|b4853fc1f03a3a4ce...|        Comprar ipsa|2024-11-27 13:01:39|2025-02-08 13:01:39|  DONE|    Item de Compra|\n",
      "|LIST#20230626|ITEM#1fa0a8af-6ad...|b4853fc1f03a3a4ce...|     Comprar tempore|2023-06-26 06:33:23|2024-06-15 06:33:23|  DONE|    Item de Compra|\n",
      "|LIST#20230827|ITEM#1fa0a8af-6ad...|b4853fc1f03a3a4ce...|    Laboriosam dolor|2023-08-27 09:30:37|               NULL|  TODO|Tarefa a Ser Feita|\n",
      "|LIST#20250205|ITEM#1fa0a8af-6ad...|b4853fc1f03a3a4ce...|Blanditiis corrup...|2025-02-05 16:57:46|               NULL|  TODO|Tarefa a Ser Feita|\n",
      "|LIST#20250213|ITEM#1fa0a8af-6ad...|b4853fc1f03a3a4ce...|        Comprar esse|2025-02-13 11:13:26|2025-06-02 20:48:40|  DONE|    Item de Compra|\n",
      "|LIST#20240331|ITEM#1fa0a8af-6ad...|b4853fc1f03a3a4ce...|Sunt soluta offic...|2024-03-31 16:41:51|               NULL|  TODO|Tarefa a Ser Feita|\n",
      "|LIST#20241112|ITEM#1fa0a8af-6ad...|b4853fc1f03a3a4ce...|          Comprar ab|2024-11-12 11:14:24|               NULL|  TODO|    Item de Compra|\n",
      "|LIST#20240210|ITEM#1fa0a8af-6ad...|b4853fc1f03a3a4ce...|    Amet beatae esse|2024-02-10 16:00:34|2024-02-14 16:00:34|  DONE|Tarefa a Ser Feita|\n",
      "|LIST#20250312|ITEM#1fa0a8af-6ad...|b4853fc1f03a3a4ce...|                Modi|2025-03-12 12:43:39|               NULL|  TODO|Tarefa a Ser Feita|\n",
      "|LIST#20250525|ITEM#1fa0a8af-6ad...|b4853fc1f03a3a4ce...|         Comprar sed|2025-05-25 23:04:16|               NULL|  TODO|    Item de Compra|\n",
      "|LIST#20240921|ITEM#1fa0a8af-6ad...|b4853fc1f03a3a4ce...|       Comprar ullam|2024-09-21 07:48:24|2025-01-25 07:48:24|  DONE|    Item de Compra|\n",
      "|LIST#20240519|ITEM#1fa0a8af-6ad...|b4853fc1f03a3a4ce...|Ipsa accusantium ...|2024-05-19 03:14:54|2025-01-12 03:14:54|  DONE|Tarefa a Ser Feita|\n",
      "|LIST#20240710|ITEM#1fa0a8af-6ad...|b4853fc1f03a3a4ce...|Doloremque except...|2024-07-10 18:55:09|2025-01-16 18:55:09|  DONE|Tarefa a Ser Feita|\n",
      "|LIST#20231216|ITEM#1fa0a8af-6ad...|b4853fc1f03a3a4ce...|      Ad iusto culpa|2023-12-16 05:13:08|               NULL|  TODO|Tarefa a Ser Feita|\n",
      "|LIST#20241010|ITEM#1fa0a8af-6ad...|b4853fc1f03a3a4ce...|Rerum animi ducim...|2024-10-10 04:20:59|2024-12-13 04:20:59|  DONE|Tarefa a Ser Feita|\n",
      "|LIST#20240310|ITEM#1fa0a8af-6ad...|b4853fc1f03a3a4ce...|  Comprar aspernatur|2024-03-10 01:25:36|               NULL|  TODO|    Item de Compra|\n",
      "|LIST#20240708|ITEM#1fa0a8af-6ad...|b4853fc1f03a3a4ce...|Fuga quae corpori...|2024-07-08 13:30:58|               NULL|  TODO|Tarefa a Ser Feita|\n",
      "+-------------+--------------------+--------------------+--------------------+-------------------+-------------------+------+------------------+\n",
      "only showing top 20 rows\n"
     ]
    }
   ],
   "source": [
    "from pyspark.sql.functions import when, date_format, lit, col, concat\n",
    "import uuid\n",
    "\n",
    "\n",
    "\n",
    "df = df.withColumn('status', when(df['status'] == 1, 'TODO').otherwise('DONE'))\n",
    "df = df.withColumn('PK', concat(lit('LIST#'), date_format(col('data'), 'yyyyMMdd')))\n",
    "df = df.withColumn('SK', concat(lit('ITEM#'), lit(str(uuid.uuid4()))))  # TODO arrumar o id para que naão seja o mesmo para todos\n",
    "df = df.select(df.PK, df.SK, df.user_id, df.nome, df.data, df.data_conclusao, df.status, df.tipo_tarefa)\n",
    "\n",
    "df.show()"
   ]
  },
  {
   "cell_type": "code",
   "execution_count": null,
   "id": "21a1f262",
   "metadata": {},
   "outputs": [],
   "source": []
  }
 ],
 "metadata": {
  "kernelspec": {
   "display_name": "test-spark-hv03Ohfi-py3.12",
   "language": "python",
   "name": "python3"
  },
  "language_info": {
   "codemirror_mode": {
    "name": "ipython",
    "version": 3
   },
   "file_extension": ".py",
   "mimetype": "text/x-python",
   "name": "python",
   "nbconvert_exporter": "python",
   "pygments_lexer": "ipython3",
   "version": "3.12.3"
  }
 },
 "nbformat": 4,
 "nbformat_minor": 5
}
