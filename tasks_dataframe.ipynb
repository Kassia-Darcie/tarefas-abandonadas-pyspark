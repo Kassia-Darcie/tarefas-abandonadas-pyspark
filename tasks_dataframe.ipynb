{
 "cells": [
  {
   "cell_type": "code",
   "execution_count": 20,
   "id": "f6f6af94-4c5d-40ab-92ca-a79de82a5922",
   "metadata": {},
   "outputs": [],
   "source": [
    "\n",
    "from pyspark.sql.types import StringType\n",
    "from pyspark.sql import SparkSession\n",
    "\n",
    "\n",
    "spark = ( \n",
    "    SparkSession\n",
    "    .builder\n",
    "        .master(\"local[*]\")\n",
    "    .appName('spark_dataframe_api')\n",
    "    .getOrCreate()\n",
    ")\n",
    "\n",
    "base_dataframe = (\n",
    "    spark\n",
    "    .read\n",
    "    .option('delimiter', ';')\n",
    "    .option('header', 'true')\n",
    "    .option('inferSchema', 'true')\n",
    "    .option('enconding', 'ISO-8859-1')\n",
    "    .csv('./data/amostragem.csv')\n",
    ")\n",
    "\n",
    "\n",
    "df = base_dataframe.withColumnsRenamed(\n",
    "    {'Nome da Tarefa': 'nome', \n",
    "     'Data de Criação': 'data', \n",
    "     'Data de Conclusão': 'data_conclusao', \n",
    "     'Status': 'status', \n",
    "     'Tipo da Tarefa': 'tipo_tarefa', \n",
    "     'ID do Usuário': 'user_id',\n",
    "     'Usuário': 'usuario'\n",
    "     }\n",
    "    )\n",
    "\n",
    "df = df.withColumn('status', df['status'].cast(StringType()))\n",
    "df = df.withColumn('data', df['data'].cast(StringType()))\n",
    "df = df.withColumn('data_conclusao', df['data_conclusao'].cast(StringType()))\n",
    "\n",
    "\n",
    "df = (\n",
    "  df\n",
    "  .filter((df['usuario'] == 'Jeferson Klau') & (df['status'] != 3))\n",
    ")\n",
    "\n"
   ]
  },
  {
   "cell_type": "code",
   "execution_count": 21,
   "id": "42026796",
   "metadata": {},
   "outputs": [
    {
     "name": "stdout",
     "output_type": "stream",
     "text": [
      "+-------------+--------------------+--------------------+-------------+--------------------+-------------------+-------------------+------+------------------+\n",
      "|           PK|                  SK|             user_id|      usuario|                nome|               data|     data_conclusao|status|       tipo_tarefa|\n",
      "+-------------+--------------------+--------------------+-------------+--------------------+-------------------+-------------------+------+------------------+\n",
      "|LIST#20240718|ITEM#f60553ab-7c1...|035c6ada-4091-703...|Jeferson Klau|Cum iure exercita...|2024-07-18 22:51:51|2025-02-12 22:51:51|  DONE|Tarefa a Ser Feita|\n",
      "|LIST#20250529|ITEM#9d1944ce-1ec...|035c6ada-4091-703...|Jeferson Klau|    Asperiores iusto|2025-05-29 09:07:49|               NULL|  TODO|Tarefa a Ser Feita|\n",
      "|LIST#20230912|ITEM#ea5c438c-0fd...|035c6ada-4091-703...|Jeferson Klau|Asperiores pariat...|2023-09-12 19:56:45|               NULL|  TODO|Tarefa a Ser Feita|\n",
      "|LIST#20241127|ITEM#86594c55-676...|035c6ada-4091-703...|Jeferson Klau|        Comprar ipsa|2024-11-27 13:01:39|2025-02-08 13:01:39|  DONE|    Item de Compra|\n",
      "|LIST#20230626|ITEM#96ab9f86-348...|035c6ada-4091-703...|Jeferson Klau|     Comprar tempore|2023-06-26 06:33:23|2024-06-15 06:33:23|  DONE|    Item de Compra|\n",
      "|LIST#20230827|ITEM#f673f73a-dc4...|035c6ada-4091-703...|Jeferson Klau|    Laboriosam dolor|2023-08-27 09:30:37|               NULL|  TODO|Tarefa a Ser Feita|\n",
      "|LIST#20250205|ITEM#089b253f-7bf...|035c6ada-4091-703...|Jeferson Klau|Blanditiis corrup...|2025-02-05 16:57:46|               NULL|  TODO|Tarefa a Ser Feita|\n",
      "|LIST#20250213|ITEM#bf16bf15-a14...|035c6ada-4091-703...|Jeferson Klau|        Comprar esse|2025-02-13 11:13:26|2025-06-02 20:48:40|  DONE|    Item de Compra|\n",
      "|LIST#20240331|ITEM#12dbe009-e8f...|035c6ada-4091-703...|Jeferson Klau|Sunt soluta offic...|2024-03-31 16:41:51|               NULL|  TODO|Tarefa a Ser Feita|\n",
      "|LIST#20241112|ITEM#657c5b67-cb7...|035c6ada-4091-703...|Jeferson Klau|          Comprar ab|2024-11-12 11:14:24|               NULL|  TODO|    Item de Compra|\n",
      "|LIST#20240210|ITEM#9b3fb8fc-9d1...|035c6ada-4091-703...|Jeferson Klau|    Amet beatae esse|2024-02-10 16:00:34|2024-02-14 16:00:34|  DONE|Tarefa a Ser Feita|\n",
      "|LIST#20250312|ITEM#4f5bbc38-476...|035c6ada-4091-703...|Jeferson Klau|                Modi|2025-03-12 12:43:39|               NULL|  TODO|Tarefa a Ser Feita|\n",
      "|LIST#20250525|ITEM#7ecc1273-a4b...|035c6ada-4091-703...|Jeferson Klau|         Comprar sed|2025-05-25 23:04:16|               NULL|  TODO|    Item de Compra|\n",
      "|LIST#20240921|ITEM#0530d6d0-bc6...|035c6ada-4091-703...|Jeferson Klau|       Comprar ullam|2024-09-21 07:48:24|2025-01-25 07:48:24|  DONE|    Item de Compra|\n",
      "|LIST#20240519|ITEM#8ee5833c-779...|035c6ada-4091-703...|Jeferson Klau|Ipsa accusantium ...|2024-05-19 03:14:54|2025-01-12 03:14:54|  DONE|Tarefa a Ser Feita|\n",
      "|LIST#20240710|ITEM#ca9a2e17-3c9...|035c6ada-4091-703...|Jeferson Klau|Doloremque except...|2024-07-10 18:55:09|2025-01-16 18:55:09|  DONE|Tarefa a Ser Feita|\n",
      "|LIST#20231216|ITEM#301bc47f-a7b...|035c6ada-4091-703...|Jeferson Klau|      Ad iusto culpa|2023-12-16 05:13:08|               NULL|  TODO|Tarefa a Ser Feita|\n",
      "|LIST#20241010|ITEM#8a186fef-6e8...|035c6ada-4091-703...|Jeferson Klau|Rerum animi ducim...|2024-10-10 04:20:59|2024-12-13 04:20:59|  DONE|Tarefa a Ser Feita|\n",
      "|LIST#20240310|ITEM#cfac3b74-7ea...|035c6ada-4091-703...|Jeferson Klau|  Comprar aspernatur|2024-03-10 01:25:36|               NULL|  TODO|    Item de Compra|\n",
      "|LIST#20240708|ITEM#d34ce7a4-a17...|035c6ada-4091-703...|Jeferson Klau|Fuga quae corpori...|2024-07-08 13:30:58|               NULL|  TODO|Tarefa a Ser Feita|\n",
      "+-------------+--------------------+--------------------+-------------+--------------------+-------------------+-------------------+------+------------------+\n",
      "only showing top 20 rows\n"
     ]
    }
   ],
   "source": [
    "\n",
    "from pyspark.sql.functions import when, date_format, lit, col, concat, udf\n",
    "import uuid\n",
    "\n",
    "def generate_uuid():\n",
    "  return str(uuid.uuid4())\n",
    "\n",
    "uuid_udf = udf(generate_uuid, StringType())\n",
    "\n",
    "df = df.withColumn('status', when(df['status'] == 1, 'TODO').otherwise('DONE'))\n",
    "df = df.withColumn('user_id', when(df['user_id'] == 'b4853fc1f03a3a4cec530a98a94d89ad', '035c6ada-4091-703a-1837-677cad18d4a5'))\n",
    "df = df.withColumn('PK', concat(lit('LIST#'), date_format(col('data'), 'yyyyMMdd')))\n",
    "df = df.withColumn('SK', concat(lit('ITEM#'), uuid_udf()))  \n",
    "df = df.select(df.PK, df.SK, df.user_id, df.usuario, df.nome, df.data, df.data_conclusao, df.status, df.tipo_tarefa)\n",
    "\n",
    "df.show()"
   ]
  },
  {
   "cell_type": "code",
   "execution_count": 22,
   "id": "c8a067d7",
   "metadata": {},
   "outputs": [
    {
     "name": "stdout",
     "output_type": "stream",
     "text": [
      "isnserido no dynamodb\n"
     ]
    }
   ],
   "source": [
    "import boto3\n",
    "\n",
    "dynamodb = boto3.resource('dynamodb', region_name='sa-east-1')\n",
    "table = dynamodb.Table('teste')\n",
    "\n",
    "pandas_df = df.toPandas()\n",
    "\n",
    "with table.batch_writer() as batch:\n",
    "  for _, row in pandas_df.iterrows():\n",
    "    item = row.to_dict()\n",
    "\n",
    "    batch.put_item(Item=item) \n",
    "\n",
    "print('isnserido no dynamodb') "
   ]
  }
 ],
 "metadata": {
  "kernelspec": {
   "display_name": "test-spark-hv03Ohfi-py3.12",
   "language": "python",
   "name": "python3"
  },
  "language_info": {
   "codemirror_mode": {
    "name": "ipython",
    "version": 3
   },
   "file_extension": ".py",
   "mimetype": "text/x-python",
   "name": "python",
   "nbconvert_exporter": "python",
   "pygments_lexer": "ipython3",
   "version": "3.12.3"
  }
 },
 "nbformat": 4,
 "nbformat_minor": 5
}
