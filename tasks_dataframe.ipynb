{
 "cells": [
  {
   "cell_type": "code",
   "execution_count": 38,
   "id": "f6f6af94-4c5d-40ab-92ca-a79de82a5922",
   "metadata": {},
   "outputs": [],
   "source": [
    "from src.clients.spark_client import get_spark_session\n",
    "from pyspark.sql.types import StringType\n",
    "from pyspark.sql import SparkSession\n",
    "\n",
    "\n",
    "spark = get_spark_session()\n",
    "\n",
    "base_dataframe = (\n",
    "    spark\n",
    "    .read\n",
    "    .option('delimiter', ';')\n",
    "    .option('header', 'true')\n",
    "    .option('inferSchema', 'true')\n",
    "    .option('enconding', 'ISO-8859-1')\n",
    "    .csv('./data/amostragem.csv')\n",
    ")\n",
    "\n",
    "\n",
    "df = base_dataframe.withColumnsRenamed(\n",
    "    {'Nome da Tarefa': 'nome', \n",
    "     'Data de Criação': 'data', \n",
    "     'Data de Conclusão': 'data_conclusao', \n",
    "     'Status': 'status', \n",
    "     'Tipo da Tarefa': 'tipo_tarefa', \n",
    "     'ID do Usuário': 'user_id',\n",
    "     'Usuário': 'usuario'\n",
    "     }\n",
    "    )\n",
    "\n",
    "df = df.withColumn('status', df['status'].cast(StringType()))\n",
    "df = df.withColumn('data', df['data'].cast(StringType()))\n",
    "df = df.withColumn('data_conclusao', df['data_conclusao'].cast(StringType()))\n",
    "\n",
    "\n",
    "df = (\n",
    "  df\n",
    "  .filter((df['usuario'] == 'Jeferson Klau') & (df['status'] != 3))\n",
    ")\n",
    "\n"
   ]
  },
  {
   "cell_type": "code",
   "execution_count": 39,
   "id": "42026796",
   "metadata": {},
   "outputs": [
    {
     "name": "stdout",
     "output_type": "stream",
     "text": [
      "+-------------+--------------------+--------------------+-------------+--------------------+-------------------+-------------------+------+------------------+\n",
      "|           PK|                  SK|             user_id|      usuario|                nome|               data|     data_conclusao|status|       tipo_tarefa|\n",
      "+-------------+--------------------+--------------------+-------------+--------------------+-------------------+-------------------+------+------------------+\n",
      "|LIST#20240718|ITEM#da8e30c3-ea2...|035c6ada-4091-703...|Jeferson Klau|Cum iure exercita...|2024-07-18 22:51:51|2025-02-12 22:51:51|  DONE|Tarefa a Ser Feita|\n",
      "|LIST#20250529|ITEM#256acc7e-304...|035c6ada-4091-703...|Jeferson Klau|    Asperiores iusto|2025-05-29 09:07:49|               NULL|  TODO|Tarefa a Ser Feita|\n",
      "|LIST#20230912|ITEM#f9938eba-1cf...|035c6ada-4091-703...|Jeferson Klau|Asperiores pariat...|2023-09-12 19:56:45|               NULL|  TODO|Tarefa a Ser Feita|\n",
      "|LIST#20241127|ITEM#feb11093-c07...|035c6ada-4091-703...|Jeferson Klau|        Comprar ipsa|2024-11-27 13:01:39|2025-02-08 13:01:39|  DONE|    Item de Compra|\n",
      "|LIST#20230626|ITEM#dd658dcf-c12...|035c6ada-4091-703...|Jeferson Klau|     Comprar tempore|2023-06-26 06:33:23|2024-06-15 06:33:23|  DONE|    Item de Compra|\n",
      "|LIST#20230827|ITEM#39052d83-213...|035c6ada-4091-703...|Jeferson Klau|    Laboriosam dolor|2023-08-27 09:30:37|               NULL|  TODO|Tarefa a Ser Feita|\n",
      "|LIST#20250205|ITEM#3d07a679-959...|035c6ada-4091-703...|Jeferson Klau|Blanditiis corrup...|2025-02-05 16:57:46|               NULL|  TODO|Tarefa a Ser Feita|\n",
      "|LIST#20250213|ITEM#a72fc189-d82...|035c6ada-4091-703...|Jeferson Klau|        Comprar esse|2025-02-13 11:13:26|2025-06-02 20:48:40|  DONE|    Item de Compra|\n",
      "|LIST#20240331|ITEM#03b8ec0a-c8f...|035c6ada-4091-703...|Jeferson Klau|Sunt soluta offic...|2024-03-31 16:41:51|               NULL|  TODO|Tarefa a Ser Feita|\n",
      "|LIST#20241112|ITEM#9cf1ca66-a2e...|035c6ada-4091-703...|Jeferson Klau|          Comprar ab|2024-11-12 11:14:24|               NULL|  TODO|    Item de Compra|\n",
      "|LIST#20240210|ITEM#6db08162-a03...|035c6ada-4091-703...|Jeferson Klau|    Amet beatae esse|2024-02-10 16:00:34|2024-02-14 16:00:34|  DONE|Tarefa a Ser Feita|\n",
      "|LIST#20250312|ITEM#08464a6f-489...|035c6ada-4091-703...|Jeferson Klau|                Modi|2025-03-12 12:43:39|               NULL|  TODO|Tarefa a Ser Feita|\n",
      "|LIST#20250525|ITEM#3c17018a-cbc...|035c6ada-4091-703...|Jeferson Klau|         Comprar sed|2025-05-25 23:04:16|               NULL|  TODO|    Item de Compra|\n",
      "|LIST#20240921|ITEM#153c4d14-498...|035c6ada-4091-703...|Jeferson Klau|       Comprar ullam|2024-09-21 07:48:24|2025-01-25 07:48:24|  DONE|    Item de Compra|\n",
      "|LIST#20240519|ITEM#517fc81a-5cd...|035c6ada-4091-703...|Jeferson Klau|Ipsa accusantium ...|2024-05-19 03:14:54|2025-01-12 03:14:54|  DONE|Tarefa a Ser Feita|\n",
      "|LIST#20240710|ITEM#893b5e73-ea7...|035c6ada-4091-703...|Jeferson Klau|Doloremque except...|2024-07-10 18:55:09|2025-01-16 18:55:09|  DONE|Tarefa a Ser Feita|\n",
      "|LIST#20231216|ITEM#dcc03199-19a...|035c6ada-4091-703...|Jeferson Klau|      Ad iusto culpa|2023-12-16 05:13:08|               NULL|  TODO|Tarefa a Ser Feita|\n",
      "|LIST#20241010|ITEM#30dfb636-79d...|035c6ada-4091-703...|Jeferson Klau|Rerum animi ducim...|2024-10-10 04:20:59|2024-12-13 04:20:59|  DONE|Tarefa a Ser Feita|\n",
      "|LIST#20240310|ITEM#0001ecd2-01d...|035c6ada-4091-703...|Jeferson Klau|  Comprar aspernatur|2024-03-10 01:25:36|               NULL|  TODO|    Item de Compra|\n",
      "|LIST#20240708|ITEM#2166fb40-21a...|035c6ada-4091-703...|Jeferson Klau|Fuga quae corpori...|2024-07-08 13:30:58|               NULL|  TODO|Tarefa a Ser Feita|\n",
      "+-------------+--------------------+--------------------+-------------+--------------------+-------------------+-------------------+------+------------------+\n",
      "only showing top 20 rows\n"
     ]
    }
   ],
   "source": [
    "\n",
    "from pyspark.sql.functions import when, date_format, lit, col, concat, udf\n",
    "import uuid\n",
    "\n",
    "def generate_uuid():\n",
    "  return str(uuid.uuid4())\n",
    "\n",
    "uuid_udf = udf(generate_uuid, StringType())\n",
    "user_id = '035c6ada-4091-703a-1837-677cad18d4a5'\n",
    "\n",
    "df = df.withColumn('status', when(df['status'] == 1, 'TODO').otherwise('DONE'))\n",
    "df = df.withColumn('user_id', when(df['user_id'] == 'b4853fc1f03a3a4cec530a98a94d89ad', user_id))\n",
    "df = df.withColumn('PK', concat(lit('LIST#'), date_format(col('data'), 'yyyyMMdd')))\n",
    "df = df.withColumn('SK', concat(lit('ITEM#'), uuid_udf()))  \n",
    "df = df.select(df.PK, df.SK, df.user_id, df.usuario, df.nome, df.data, df.data_conclusao, df.status, df.tipo_tarefa)\n",
    "\n",
    "df.show()"
   ]
  },
  {
   "cell_type": "markdown",
   "id": "76b6892c",
   "metadata": {},
   "source": [
    "## Enviando os dados para a tabela do dynamo"
   ]
  },
  {
   "cell_type": "code",
   "execution_count": 40,
   "id": "c8a067d7",
   "metadata": {},
   "outputs": [
    {
     "name": "stdout",
     "output_type": "stream",
     "text": [
      "inserido no dynamodb\n"
     ]
    }
   ],
   "source": [
    "from src.clients.dynamodb_client import DynamoDBClient\n",
    "\n",
    "dynamodb = DynamoDBClient()\n",
    "table = dynamodb.get_table('teste')\n",
    "\n",
    "pandas_df = df.toPandas()\n",
    "\n",
    "with table.batch_writer() as batch:\n",
    "  for _, row in pandas_df.iterrows():\n",
    "    item = row.to_dict()\n",
    "\n",
    "    batch.put_item(Item=item) \n",
    "\n",
    "print('inserido no dynamodb') "
   ]
  },
  {
   "cell_type": "code",
   "execution_count": null,
   "id": "8433dc83",
   "metadata": {},
   "outputs": [
    {
     "name": "stdout",
     "output_type": "stream",
     "text": [
      "+-------------+--------------------+--------------------+-------------+--------------------+-------------------+--------------+------+------------------+\n",
      "|           PK|                  SK|             user_id|      usuario|                nome|               data|data_conclusao|status|       tipo_tarefa|\n",
      "+-------------+--------------------+--------------------+-------------+--------------------+-------------------+--------------+------+------------------+\n",
      "|LIST#20230827|ITEM#e6c62e96-f06...|035c6ada-4091-703...|Jeferson Klau|    Laboriosam dolor|2023-08-27 09:30:37|          NULL|  TODO|Tarefa a Ser Feita|\n",
      "|LIST#20230827|ITEM#ea5e8b60-daa...|035c6ada-4091-703...|Jeferson Klau|    Laboriosam dolor|2023-08-27 09:30:37|          NULL|  TODO|Tarefa a Ser Feita|\n",
      "|LIST#20230827|ITEM#ecfebe7d-adb...|035c6ada-4091-703...|Jeferson Klau|    Laboriosam dolor|2023-08-27 09:30:37|          NULL|  TODO|Tarefa a Ser Feita|\n",
      "|LIST#20230912|ITEM#e2653dec-c01...|035c6ada-4091-703...|Jeferson Klau|Asperiores pariat...|2023-09-12 19:56:45|          NULL|  TODO|Tarefa a Ser Feita|\n",
      "|LIST#20230912|ITEM#c05dcac7-643...|035c6ada-4091-703...|Jeferson Klau|Asperiores pariat...|2023-09-12 19:56:45|          NULL|  TODO|Tarefa a Ser Feita|\n",
      "|LIST#20230912|ITEM#5383dd3a-590...|035c6ada-4091-703...|Jeferson Klau|Asperiores pariat...|2023-09-12 19:56:45|          NULL|  TODO|Tarefa a Ser Feita|\n",
      "|LIST#20231015|ITEM#f75921d3-d6d...|035c6ada-4091-703...|Jeferson Klau|Dolore harum quos...|2023-10-15 16:00:05|          NULL|  TODO|Tarefa a Ser Feita|\n",
      "|LIST#20231015|ITEM#e0d40309-e89...|035c6ada-4091-703...|Jeferson Klau|Dolore harum quos...|2023-10-15 16:00:05|          NULL|  TODO|Tarefa a Ser Feita|\n",
      "|LIST#20231015|ITEM#a0793e87-586...|035c6ada-4091-703...|Jeferson Klau|Dolore harum quos...|2023-10-15 16:00:05|          NULL|  TODO|Tarefa a Ser Feita|\n",
      "|LIST#20231216|ITEM#acb8ec57-dc0...|035c6ada-4091-703...|Jeferson Klau|      Ad iusto culpa|2023-12-16 05:13:08|          NULL|  TODO|Tarefa a Ser Feita|\n",
      "|LIST#20231216|ITEM#f335e596-1ca...|035c6ada-4091-703...|Jeferson Klau|      Ad iusto culpa|2023-12-16 05:13:08|          NULL|  TODO|Tarefa a Ser Feita|\n",
      "|LIST#20231216|ITEM#dfc03bbe-b26...|035c6ada-4091-703...|Jeferson Klau|      Ad iusto culpa|2023-12-16 05:13:08|          NULL|  TODO|Tarefa a Ser Feita|\n",
      "|LIST#20240310|ITEM#f412c60d-93c...|035c6ada-4091-703...|Jeferson Klau|  Comprar aspernatur|2024-03-10 01:25:36|          NULL|  TODO|    Item de Compra|\n",
      "|LIST#20240310|ITEM#d093f937-b27...|035c6ada-4091-703...|Jeferson Klau|  Comprar aspernatur|2024-03-10 01:25:36|          NULL|  TODO|    Item de Compra|\n",
      "|LIST#20240310|ITEM#ab7924da-902...|035c6ada-4091-703...|Jeferson Klau|  Comprar aspernatur|2024-03-10 01:25:36|          NULL|  TODO|    Item de Compra|\n",
      "|LIST#20240310|ITEM#0063d88a-bff...|035c6ada-4091-703...|Jeferson Klau|  Comprar aspernatur|2024-03-10 01:25:36|          NULL|  TODO|    Item de Compra|\n",
      "|LIST#20240331|ITEM#16cee9f1-198...|035c6ada-4091-703...|Jeferson Klau|Sunt soluta offic...|2024-03-31 16:41:51|          NULL|  TODO|Tarefa a Ser Feita|\n",
      "|LIST#20240331|ITEM#7d8e030b-bdc...|035c6ada-4091-703...|Jeferson Klau|Sunt soluta offic...|2024-03-31 16:41:51|          NULL|  TODO|Tarefa a Ser Feita|\n",
      "|LIST#20240331|ITEM#fab18b75-90b...|035c6ada-4091-703...|Jeferson Klau|Sunt soluta offic...|2024-03-31 16:41:51|          NULL|  TODO|Tarefa a Ser Feita|\n",
      "|LIST#20240603|ITEM#1bb1b1eb-701...|035c6ada-4091-703...|Jeferson Klau|Fuga ipsam autem ...|2024-06-03 20:29:11|          NULL|  TODO|Tarefa a Ser Feita|\n",
      "+-------------+--------------------+--------------------+-------------+--------------------+-------------------+--------------+------+------------------+\n",
      "only showing top 20 rows\n"
     ]
    }
   ],
   "source": [
    "from boto3.dynamodb.conditions import Key\n",
    "from pyspark.sql.types import StringType, StructField, StructType\n",
    "\n",
    "# Query para obter as tarefas não concluídas\n",
    "response = table.query(\n",
    "    IndexName='user_id-PK-index',\n",
    "    KeyConditionExpression=Key('user_id').eq(user_id) & Key('PK').begins_with('LIST#'),\n",
    "    FilterExpression=Key('status').eq('TODO')\n",
    ")\n",
    "\n",
    "items = response['Items']\n",
    "\n",
    "schema = StructType([\n",
    "    StructField('PK', StringType(), False),\n",
    "    StructField('SK', StringType(), False),\n",
    "    StructField('user_id', StringType(), False),\n",
    "    StructField('usuario', StringType(), False),\n",
    "    StructField('nome', StringType(), False),\n",
    "    StructField('data', StringType(), False),\n",
    "    StructField('data_conclusao', StringType(), True),\n",
    "    StructField('status', StringType(), False),\n",
    "    StructField('tipo_tarefa', StringType(), False)\n",
    "])\n",
    "\n",
    "dynamodb_dataframe = spark.createDataFrame(items, schema=schema)\n",
    "\n",
    "dynamodb_dataframe.show()\n"
   ]
  }
 ],
 "metadata": {
  "kernelspec": {
   "display_name": "test-spark-hv03Ohfi-py3.12",
   "language": "python",
   "name": "python3"
  },
  "language_info": {
   "codemirror_mode": {
    "name": "ipython",
    "version": 3
   },
   "file_extension": ".py",
   "mimetype": "text/x-python",
   "name": "python",
   "nbconvert_exporter": "python",
   "pygments_lexer": "ipython3",
   "version": "3.12.3"
  }
 },
 "nbformat": 4,
 "nbformat_minor": 5
}
